{
 "cells": [
  {
   "cell_type": "code",
   "execution_count": 2,
   "id": "3f035f41-6bcd-40f1-9950-5df1c00697f0",
   "metadata": {},
   "outputs": [],
   "source": [
    "import sys\n",
    "sys.path.append(\"../scripts\")\n",
    "import numerics\n",
    "import matplotlib.pyplot as plt\n",
    "import numpy as np\n",
    "import style"
   ]
  },
  {
   "cell_type": "code",
   "execution_count": 3,
   "id": "c66d6552-d5b5-4ce4-86a5-e2a800068d9d",
   "metadata": {},
   "outputs": [],
   "source": [
    "\"\"\"\n",
    "find_fps function modified from 'numerics' to handle inputs\n",
    "\"\"\"\n",
    "\n",
    "\n",
    "def find_fps(T, V, inputs, T_run, N_batch, dt=0.1, init_size=1000, return_full=False):\n",
    "    P = T.shape[0]\n",
    "    Nt = int(T_run / dt)\n",
    "    S_series = np.zeros((Nt, N_batch, P, P))\n",
    "    S_series[0] = np.random.uniform(-init_size, init_size, size=(N_batch, P, P))\n",
    "    \n",
    "    for i in range(1, Nt):\n",
    "        t = i * dt\n",
    "        input_t = inputs(t)\n",
    "        \n",
    "        # Compute Frobenius norm of S\n",
    "        S_norm_sq = (S_series[i-1]**2).sum(axis=-1)\n",
    "        \n",
    "        # Compute Psi with Frobenius norm and squared input\n",
    "        psi = numerics.compute_psi(S_norm_sq + (input_t**2)[None, :])\n",
    "        \n",
    "        # Compute T*S term with additional V input term\n",
    "        TS_term = np.einsum('mnr,bn,bnr->bmn', T, psi, S_series[i-1], optimize='optimal')\n",
    "        V_input_term = np.einsum('mn,n->mn', V, input_t, optimize='optimal')[None, :, :]\n",
    "        combined_term = TS_term + V_input_term\n",
    "        \n",
    "        S_series[i] = S_series[i-1] + dt*(-S_series[i-1] + combined_term)\n",
    "    \n",
    "    S_fps = S_series[-1].copy()\n",
    "    print(np.max(np.abs(S_series[-1] - S_series[-200])), flush=True)\n",
    "    \n",
    "    if return_full:\n",
    "        return S_series\n",
    "    else:\n",
    "        return S_fps\n"
   ]
  },
  {
   "cell_type": "code",
   "execution_count": 4,
   "id": "66bd9da5-eaa4-412c-9474-782357b0e749",
   "metadata": {},
   "outputs": [],
   "source": [
    "P = 5\n",
    "\n",
    "a = np.array([2.56497381, 1.97552974, 1.97887313, 1.95708126, 2.03461631])\n",
    "b = np.array([1.90793845, 2.56979247, 2.46955172, 2.51276156, 2.49002518])\n",
    "\n",
    "U = np.array([np.eye(P) for _ in range(P)])\n",
    "V = np.zeros((P, P))\n",
    "V[1:, 0] = 0.1\n",
    "\n",
    "h = a - b\n",
    "u = np.random.choice([-1.,1.], size=5)*np.sqrt(b)\n",
    "T = numerics.make_T_from_uh(u, h)\n",
    "\n"
   ]
  },
  {
   "cell_type": "code",
   "execution_count": 5,
   "id": "108e621d-dfda-4109-bcf5-7af6e2d1be5f",
   "metadata": {},
   "outputs": [
    {
     "name": "stdout",
     "output_type": "stream",
     "text": [
      "1.2069359480676994e-119\n",
      "2.833854919132176e-117\n"
     ]
    }
   ],
   "source": [
    "input_strength = 0\n",
    "inputs = lambda t: np.array([input_strength, 0, 0, 0, 0])\n",
    "S1 = find_fps(T=T, V=V, inputs=inputs, T_run=2000, N_batch=1, init_size=1, dt=0.1)[0]\n",
    "\n",
    "input_strength = 2\n",
    "inputs = lambda t: np.array([input_strength, 0, 0, 0, 0])\n",
    "S2 = find_fps(T=T, V=V, inputs=inputs, T_run=2000, N_batch=1, init_size=1, dt=0.1)[0]"
   ]
  },
  {
   "cell_type": "code",
   "execution_count": 9,
   "id": "85d7bd04-a4ea-4b34-92c6-3db6de551e08",
   "metadata": {},
   "outputs": [
    {
     "data": {
      "image/png": "[encoded data removed]",
      "text/plain": [
       "<Figure size 759.375x337.5 with 2 Axes>"
      ]
     },
     "metadata": {},
     "output_type": "display_data"
    }
   ],
   "source": [
    "fig, axes = plt.subplots(1, 2, figsize=(3.375, 1.5))\n",
    "ax1, ax2 = axes\n",
    "\n",
    "ax1.imshow(S1, vmin=-1, vmax=1, cmap='RdGy', interpolation=\"None\")\n",
    "ax2.imshow(S2, vmin=-1, vmax=1, cmap='RdGy', interpolation=\"None\")\n",
    "for ax in axes:\n",
    "    ax.set_aspect(1.)\n",
    "    t, tl = np.arange(5), [str(v) for v in np.arange(5)+1]\n",
    "    ax.set_xticks(t, tl)\n",
    "    ax.set_yticks(t, tl)\n",
    "\n",
    "ax1.set_title(\"$I^1 = 0$ [input 1 off]\")\n",
    "ax2.set_title(\"$I^1 > 0$ [input 1 on]\")\n",
    "ax1.set_ylabel(\"$S^{\\\\mu\\\\nu}$\")\n",
    "#plt.savefig(\"figs/input_flip.png\", bbox_inches='tight', dpi=450)\n",
    "plt.show()"
   ]
  },
  {
   "cell_type": "code",
   "execution_count": null,
   "id": "a2cd3f5e-3226-42aa-a971-8faed89ec244",
   "metadata": {},
   "outputs": [],
   "source": []
  },
  {
   "cell_type": "code",
   "execution_count": null,
   "id": "82dca64d",
   "metadata": {},
   "outputs": [],
   "source": []
  },
  {
   "cell_type": "code",
   "execution_count": null,
   "id": "7633d98d",
   "metadata": {},
   "outputs": [],
   "source": []
  }
 ],
 "metadata": {
  "kernelspec": {
   "display_name": "Python 3 (ipykernel)",
   "language": "python",
   "name": "python3"
  },
  "language_info": {
   "codemirror_mode": {
    "name": "ipython",
    "version": 3
   },
   "file_extension": ".py",
   "mimetype": "text/x-python",
   "name": "python",
   "nbconvert_exporter": "python",
   "pygments_lexer": "ipython3",
   "version": "3.8.13"
  }
 },
 "nbformat": 4,
 "nbformat_minor": 5
}
